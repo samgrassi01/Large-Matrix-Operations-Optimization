{
 "cells": [
  {
   "cell_type": "markdown",
   "metadata": {},
   "source": [
    "## Faster Computation using Eigenbasis\n",
    "\n",
    "Matrices are ubiquitous in the world of computer science, especially in the world of scientific computing.  Often, one needs to multiply many of these matrices together to solve problems.  Problematically, these matrices are often quite large, and need to be multiplied together many times, which can be quite slow.  \n",
    "\n",
    "One common example is computing the states that markov chains \"settle into\".  Where, given a transition matrix $M$ with absorbing state $j$, the probability that a starting point of state $i$ will eventually be absorbed into state $j$ is given by the row $i$, column $j$ entry of the transition matrix $M_\\infty$.  Where\n",
    "\n",
    "$$\n",
    "M_\\infty = \\lim_{n\\to\\infty} M^n\n",
    "$$\n",
    "\n",
    "For example, given \n",
    "\n",
    "$$\n",
    "M = \\left( \\begin{array}{ccc}\n",
    "    1 & 0 & 0 & 0 & 0 & 0 \\\\\n",
    "    \\frac{1}{2} & 0 & \\frac{1}{2} & 0 & 0 & 0 \\\\\n",
    "    0 & \\frac{1}{2} & 0 & \\frac{1}{2} & 0 & 0 \\\\\n",
    "    0 & 0 & \\frac{1}{2} & 0 & \\frac{1}{2} & 0 \\\\\n",
    "    0 & 0 & 0 & \\frac{1}{2} & 0 & \\frac{1}{2} \\\\\n",
    "    0 & 0 & 0 & 0 & 0 & 1\n",
    "    \\end{array}\\right)\n",
    "$$\n",
    "\n",
    "then \n",
    "\n",
    "$$\n",
    "M_\\infty = \\lim_{n\\to\\infty} M^n = \\left( \\begin{array}{ccc}\n",
    "    1 & 0 & 0 & 0 & 0 & 0 \\\\\n",
    "    \\frac{4}{5} & 0 & 0 & 0 & 0 & \\frac{1}{5} \\\\\n",
    "    \\frac{3}{5} & 0 & 0 & 0 & 0 & \\frac{2}{5} \\\\\n",
    "    \\frac{2}{5} & 0 & 0 & 0 & 0 & \\frac{3}{5} \\\\\n",
    "    \\frac{1}{5} & 0 & 0 & 0 & 0 & \\frac{4}{5} \\\\\n",
    "    0 & 0 & 0 & 0 & 0 & 1\n",
    "    \\end{array}\\right)\n",
    "$$\n",
    "\n",
    "Taking large powers of large matrices as in this example can be a computationally intractable task.  However, if $M$ has $p$ eigenvectors, where $p$ = $\\text{dim}(M)$, then it is possible to switch to an eigenbasis, do the computation there, and then convert back to the original basis.  This method - if possible for the matrices at hand - is far more efficient than simple taking a matrix and raising it to a large power, as only the eigenvalues need to be operated on, allowing for a sizeable computational speedup.  \n",
    "\n",
    "The computational speedup of switching to an eigenbasis will be demonstrated below by first taking the matrix $M$ in the above example, and raising it to an excessively large power to record the time it takes to finish this inefficient computation.  The method of using eigenvalues for computation will then be demonstrated, and the computation time of the two methods will be compared.\n",
    "\n",
    "#### Testing\n",
    "Start with imports and build transition matrix."
   ]
  },
  {
   "cell_type": "code",
   "execution_count": 1,
   "metadata": {},
   "outputs": [],
   "source": [
    "import numpy as np\n",
    "from numpy import linalg as LA"
   ]
  },
  {
   "cell_type": "code",
   "execution_count": 2,
   "metadata": {},
   "outputs": [],
   "source": [
    "M = np.array([[1, 0, 0, 0, 0, 0],\n",
    "           [0.5, 0, 0.5, 0, 0, 0],\n",
    "           [0, 0.5, 0, 0.5, 0, 0],\n",
    "           [0, 0, 0.5, 0, 0.5, 0],\n",
    "           [0, 0, 0, 0.5, 0, 0.5],\n",
    "           [0, 0, 0, 0, 0, 1]])"
   ]
  },
  {
   "cell_type": "markdown",
   "metadata": {},
   "source": [
    "Now the time taken to perform the \"standard method\" of a massive operation on $M$ is recorded below, with the result given."
   ]
  },
  {
   "cell_type": "code",
   "execution_count": 3,
   "metadata": {},
   "outputs": [
    {
     "name": "stdout",
     "output_type": "stream",
     "text": [
      "CPU times: user 2.74 ms, sys: 24.4 ms, total: 27.1 ms\n",
      "Wall time: 631 ms\n"
     ]
    }
   ],
   "source": [
    "%%time\n",
    "W = LA.matrix_power(M, 10000000000)"
   ]
  },
  {
   "cell_type": "code",
   "execution_count": 4,
   "metadata": {},
   "outputs": [
    {
     "data": {
      "text/plain": [
       "array([[1. , 0. , 0. , 0. , 0. , 0. ],\n",
       "       [0.8, 0. , 0. , 0. , 0. , 0.2],\n",
       "       [0.6, 0. , 0. , 0. , 0. , 0.4],\n",
       "       [0.4, 0. , 0. , 0. , 0. , 0.6],\n",
       "       [0.2, 0. , 0. , 0. , 0. , 0.8],\n",
       "       [0. , 0. , 0. , 0. , 0. , 1. ]])"
      ]
     },
     "execution_count": 4,
     "metadata": {},
     "output_type": "execute_result"
    }
   ],
   "source": [
    "W"
   ]
  },
  {
   "cell_type": "markdown",
   "metadata": {},
   "source": [
    "The correct answer was returned, but at a slow time relative to the eigenbasis method demonstrated below."
   ]
  },
  {
   "cell_type": "code",
   "execution_count": 5,
   "metadata": {},
   "outputs": [],
   "source": [
    "# get eigen values and eigenvectors of matrix\n",
    "lamb, vec = LA.eig(M)\n",
    "B = LA.inv(vec) @ M @ vec"
   ]
  },
  {
   "cell_type": "code",
   "execution_count": 6,
   "metadata": {},
   "outputs": [
    {
     "name": "stdout",
     "output_type": "stream",
     "text": [
      "CPU times: user 37 µs, sys: 7 µs, total: 44 µs\n",
      "Wall time: 48.4 µs\n"
     ]
    }
   ],
   "source": [
    "%%time\n",
    "lamb = pow(lamb, 10000000000)"
   ]
  },
  {
   "cell_type": "code",
   "execution_count": 7,
   "metadata": {},
   "outputs": [
    {
     "data": {
      "text/plain": [
       "array([[1. , 0. , 0. , 0. , 0. , 0. ],\n",
       "       [0.8, 0. , 0. , 0. , 0. , 0.2],\n",
       "       [0.6, 0. , 0. , 0. , 0. , 0.4],\n",
       "       [0.4, 0. , 0. , 0. , 0. , 0.6],\n",
       "       [0.2, 0. , 0. , 0. , 0. , 0.8],\n",
       "       [0. , 0. , 0. , 0. , 0. , 1. ]])"
      ]
     },
     "execution_count": 7,
     "metadata": {},
     "output_type": "execute_result"
    }
   ],
   "source": [
    "B = np.diag(lamb) @ B\n",
    "X = vec @ B @ LA.inv(vec)\n",
    "X"
   ]
  },
  {
   "cell_type": "markdown",
   "metadata": {},
   "source": [
    "The results show the power of this method.  Operating on just the eigenvalues was over **13,000** times faster than the standard method.  Below, it is shown that even the entire process of converting to an eigenbasis, performing the operations there, and converting back is still significantly faster than the standard method."
   ]
  },
  {
   "cell_type": "code",
   "execution_count": 8,
   "metadata": {},
   "outputs": [
    {
     "name": "stdout",
     "output_type": "stream",
     "text": [
      "CPU times: user 1.34 ms, sys: 261 µs, total: 1.6 ms\n",
      "Wall time: 1.25 ms\n"
     ]
    }
   ],
   "source": [
    "%%time\n",
    "lamb, vec = LA.eig(M)\n",
    "B = LA.inv(vec) @ M @ vec\n",
    "lamb = pow(lamb, 10000000000)\n",
    "B = np.diag(lamb) @ B\n",
    "X = vec @ B @ LA.inv(vec)"
   ]
  },
  {
   "cell_type": "code",
   "execution_count": 9,
   "metadata": {},
   "outputs": [
    {
     "data": {
      "text/plain": [
       "array([[1. , 0. , 0. , 0. , 0. , 0. ],\n",
       "       [0.8, 0. , 0. , 0. , 0. , 0.2],\n",
       "       [0.6, 0. , 0. , 0. , 0. , 0.4],\n",
       "       [0.4, 0. , 0. , 0. , 0. , 0.6],\n",
       "       [0.2, 0. , 0. , 0. , 0. , 0.8],\n",
       "       [0. , 0. , 0. , 0. , 0. , 1. ]])"
      ]
     },
     "execution_count": 9,
     "metadata": {},
     "output_type": "execute_result"
    }
   ],
   "source": [
    "X"
   ]
  },
  {
   "cell_type": "markdown",
   "metadata": {},
   "source": [
    "As demonstrated above, the whole sequence of converting to an eigenbasis, operating on the eigenvalues, and converting back is still over **500** times faster than just raising $M$ to a large power.  \n",
    "\n",
    "Below, another example of large matrix computations given.\n",
    "\n",
    "### Optimizing Expected Values Computation\n",
    "\n",
    "Given a transition matrix $M$, one may need to compute $Q$ where \n",
    "\n",
    "$$\n",
    "Q = M + M^2 + M^3 + \\cdots + M^n\n",
    "$$\n",
    "\n",
    "The $i$, $j$, entry of $Q$ is the expected number of times a sequence beginning in state $i$ will enter state $j$ within the first $n$ turns of a game.  This is another problem where using an eigenbasis can be used to optimize the series of operations.\n",
    "\n",
    "Below, the time taken to compute $Q$ using just the given matrix $M$ and no change of basis is shown."
   ]
  },
  {
   "cell_type": "code",
   "execution_count": 1,
   "metadata": {},
   "outputs": [],
   "source": [
    "import numpy as np\n",
    "from numpy import linalg as LA\n",
    "\n",
    "M = np.array([[1, 0, 0, 0, 0, 0],\n",
    "           [0.5, 0, 0.5, 0, 0, 0],\n",
    "           [0, 0.5, 0, 0.5, 0, 0],\n",
    "           [0, 0, 0.5, 0, 0.5, 0],\n",
    "           [0, 0, 0, 0.5, 0, 0.5],\n",
    "           [0, 0, 0, 0, 0, 1]])\n",
    "\n",
    "lamb, vec = LA.eig(M)\n",
    "B = LA.inv(vec) @ M @ vec"
   ]
  },
  {
   "cell_type": "code",
   "execution_count": 2,
   "metadata": {},
   "outputs": [
    {
     "name": "stdout",
     "output_type": "stream",
     "text": [
      "CPU times: user 33.5 s, sys: 183 ms, total: 33.7 s\n",
      "Wall time: 33.7 s\n"
     ]
    }
   ],
   "source": [
    "%%time\n",
    "Mp = [LA.matrix_power(M, i) for i in range(1, 1000000)]\n",
    "\n",
    "for i in Mp:\n",
    "    M += i"
   ]
  },
  {
   "cell_type": "code",
   "execution_count": 3,
   "metadata": {},
   "outputs": [
    {
     "data": {
      "text/plain": [
       "array([[1000000,       0,       0,       0,       0,       0],\n",
       "       [ 799998,       0,       1,       0,       0,  199998],\n",
       "       [ 599996,       1,       1,       2,       0,  399997],\n",
       "       [ 399997,       0,       2,       1,       1,  599996],\n",
       "       [ 199998,       0,       0,       1,       0,  799998],\n",
       "       [      0,       0,       0,       0,       0, 1000000]])"
      ]
     },
     "execution_count": 3,
     "metadata": {},
     "output_type": "execute_result"
    }
   ],
   "source": [
    "M.astype('int')"
   ]
  },
  {
   "cell_type": "markdown",
   "metadata": {},
   "source": [
    "Now, using the eigenbasis."
   ]
  },
  {
   "cell_type": "code",
   "execution_count": 4,
   "metadata": {},
   "outputs": [
    {
     "name": "stdout",
     "output_type": "stream",
     "text": [
      "CPU times: user 4.34 s, sys: 44.1 ms, total: 4.39 s\n",
      "Wall time: 4.4 s\n"
     ]
    }
   ],
   "source": [
    "%%time\n",
    "lp = [pow(lamb, i) for i in range(1, 1000000)]\n",
    "\n",
    "for i in lp:\n",
    "    lamb += i\n",
    "    \n",
    "B = np.diag(lamb) @ B\n",
    "X = vec @ B @ LA.inv(vec)"
   ]
  },
  {
   "cell_type": "code",
   "execution_count": 5,
   "metadata": {},
   "outputs": [
    {
     "data": {
      "text/plain": [
       "array([[1000000,       0,       0,       0,       0,       0],\n",
       "       [ 799998,       0,       0,       1,       0,  199998],\n",
       "       [ 599997,       0,       1,       1,       1,  399997],\n",
       "       [ 399997,       1,       1,       1,       0,  599997],\n",
       "       [ 199998,       0,       1,       0,       0,  799998],\n",
       "       [      0,       0,       0,       0,       0, 1000000]])"
      ]
     },
     "execution_count": 5,
     "metadata": {},
     "output_type": "execute_result"
    }
   ],
   "source": [
    "X.astype('int')"
   ]
  },
  {
   "cell_type": "markdown",
   "metadata": {},
   "source": [
    "As the results show, the process of switching to an eigenbasis, performing operations and switching back is still 8 times faster than the standard method of operating directly on the original matrix.  Do note however that some of the entries of the matrix outputed by the \"eigenbasis method\" were incorrect +-1.  This is likely due to floating point error in the several operations taken from finding the eigenvectors to changing basis, where these minor discrepencies are blown up during the addition.  This is important to keep in mind when performing these types of operations.\n",
    "\n",
    "#### Mini-project References:\n",
    "* Took transition matrix $M$ from the textbook \"Discrete Mathematics\" by Ensley, Crawley."
   ]
  }
 ],
 "metadata": {
  "kernelspec": {
   "display_name": "Python [conda root]",
   "language": "python",
   "name": "conda-root-py"
  },
  "language_info": {
   "codemirror_mode": {
    "name": "ipython",
    "version": 3
   },
   "file_extension": ".py",
   "mimetype": "text/x-python",
   "name": "python",
   "nbconvert_exporter": "python",
   "pygments_lexer": "ipython3",
   "version": "3.6.4"
  }
 },
 "nbformat": 4,
 "nbformat_minor": 2
}
